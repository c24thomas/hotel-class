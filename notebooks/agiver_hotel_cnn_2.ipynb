{
 "cells": [
  {
   "cell_type": "markdown",
   "metadata": {},
   "source": [
    "### Convolutional Neural Networks 2\n",
    "\n",
    "The previous notebook went over how we built and trained a CNN.\n",
    "\n",
    "In this notebook, we'll cover how we make predictions and get the top likely hotels that the model thinks an image came from."
   ]
  },
  {
   "cell_type": "code",
   "execution_count": 1,
   "metadata": {
    "colab": {
     "base_uri": "https://localhost:8080/"
    },
    "id": "yjkYFSrQxWBk",
    "outputId": "407b4ef9-db03-4a24-a886-5be3a21af711"
   },
   "outputs": [
    {
     "name": "stdout",
     "output_type": "stream",
     "text": [
      "Mounted at /content/drive\n"
     ]
    }
   ],
   "source": [
    "from google.colab import drive\n",
    "drive.mount('/content/drive')"
   ]
  },
  {
   "cell_type": "code",
   "execution_count": 2,
   "metadata": {
    "id": "MWGaIlQpxykZ"
   },
   "outputs": [],
   "source": [
    "import numpy as np\n",
    "import os\n",
    "import PIL\n",
    "import PIL.Image\n",
    "import tensorflow as tf\n",
    "import pathlib\n",
    "import pandas as pd\n",
    "import matplotlib.pyplot as plt\n",
    "from tensorflow.keras import layers\n",
    "from tensorflow.keras.regularizers import l2\n",
    "import shutil"
   ]
  },
  {
   "cell_type": "code",
   "execution_count": 3,
   "metadata": {
    "id": "E3iRLYkDgz7M"
   },
   "outputs": [],
   "source": [
    "tf.random.set_seed(42)"
   ]
  },
  {
   "cell_type": "code",
   "execution_count": 4,
   "metadata": {
    "id": "3I8kfQyrDy8i"
   },
   "outputs": [],
   "source": [
    "!mkdir kaggle_dataset"
   ]
  },
  {
   "cell_type": "code",
   "execution_count": 5,
   "metadata": {
    "id": "x3BvJDY9oBE7"
   },
   "outputs": [],
   "source": [
    "os.environ['KAGGLE_CONFIG_DIR'] = '/content/kaggle_dataset'"
   ]
  },
  {
   "cell_type": "code",
   "execution_count": null,
   "metadata": {
    "id": "m2wxbLsjr4C6"
   },
   "outputs": [],
   "source": [
    "!pip uninstall -y kaggle\n",
    "!pip install --upgrade pip\n",
    "!pip install kaggle==1.5.6"
   ]
  },
  {
   "cell_type": "code",
   "execution_count": 7,
   "metadata": {
    "id": "GHM3nbwczvU3"
   },
   "outputs": [],
   "source": [
    "!chmod 600 /content/kaggle_dataset/kaggle.json"
   ]
  },
  {
   "cell_type": "code",
   "execution_count": 8,
   "metadata": {
    "colab": {
     "base_uri": "https://localhost:8080/"
    },
    "id": "CVsHEX9JngpJ",
    "outputId": "92b9c0f0-037c-4bac-9e63-5ef446b5053f"
   },
   "outputs": [
    {
     "name": "stdout",
     "output_type": "stream",
     "text": [
      "Downloading hotel-id-2021-fgvc8.zip to /content\n",
      "100% 24.4G/24.4G [05:10<00:00, 170MB/s]\n",
      "100% 24.4G/24.4G [05:10<00:00, 84.4MB/s]\n"
     ]
    }
   ],
   "source": [
    "!kaggle competitions download -c hotel-id-2021-fgvc8 --force"
   ]
  },
  {
   "cell_type": "code",
   "execution_count": null,
   "metadata": {
    "colab": {
     "base_uri": "https://localhost:8080/"
    },
    "id": "AVFjo-mAHTbO",
    "outputId": "4e60f337-a577-41ef-fc09-4e4478f01876",
    "scrolled": false
   },
   "outputs": [],
   "source": [
    "!unzip hotel-id-2021-fgvc8.zip -d /content/kaggle_dataset/hotels/"
   ]
  },
  {
   "cell_type": "code",
   "execution_count": 10,
   "metadata": {
    "id": "PL6Vl7rps6Tx"
   },
   "outputs": [],
   "source": [
    "train_df = pd.read_csv('/content/kaggle_dataset/hotels/train.csv')\n",
    "train_df = train_df.drop_duplicates(subset=['image'], keep='first')"
   ]
  },
  {
   "cell_type": "code",
   "execution_count": null,
   "metadata": {
    "id": "cwT-nPmCVuJ1"
   },
   "outputs": [],
   "source": [
    "folders = [str(chain) for chain in range(0, 92)]\n",
    "dir = \"/content/kaggle_dataset/hotels/train_images/\"\n",
    "hotels_dir = f\"/content/kaggle_dataset/hotels/train_images_by_id/\"\n",
    "for folder in folders:\n",
    "  chain_path = dir + folder + '/'\n",
    "  if os.path.exists(chain_path):\n",
    "    for file in os.listdir(chain_path):\n",
    "      if file.endswith('.jpg'):\n",
    "        hotel_id = str(train_df[train_df['image'] == file]['hotel_id'].values[0])\n",
    "        hotel_dir = hotels_dir + hotel_id\n",
    "        if not os.path.exists(hotel_dir):\n",
    "          os.makedirs(hotel_dir)\n",
    "        if os.path.exists(hotel_dir):\n",
    "          file_path = chain_path + file\n",
    "          shutil.move(file_path, hotel_dir)"
   ]
  },
  {
   "cell_type": "code",
   "execution_count": 15,
   "metadata": {
    "id": "wao_tHiVf1ja"
   },
   "outputs": [],
   "source": [
    "!mkdir /content/kaggle_dataset/hotels/batches"
   ]
  },
  {
   "cell_type": "code",
   "execution_count": 16,
   "metadata": {
    "id": "WRNIwuwQDyRH"
   },
   "outputs": [],
   "source": [
    "# moves from hotel id folders to batches\n",
    "dir = \"/content/kaggle_dataset/hotels/train_images_by_id/\"\n",
    "batches_dir = \"/content/kaggle_dataset/hotels/batches/\"\n",
    "id_count = 0\n",
    "batch = 1\n",
    "for root, dirs, files in os.walk(dir, topdown=False):\n",
    "  id_count += 1\n",
    "  batch_dir = f'batch_{batch}/'\n",
    "  batch_directory = batches_dir + batch_dir\n",
    "  if not os.path.exists(batch_directory):\n",
    "    os.makedirs(batch_directory)\n",
    "  if id_count <= 500:\n",
    "    hotel_id = root.split('/')[-1]\n",
    "    batch_hotel_dir = f'{batch_directory}{hotel_id}/' \n",
    "    if not os.path.exists(batch_hotel_dir):\n",
    "      os.makedirs(batch_hotel_dir)\n",
    "    if os.path.exists(batch_hotel_dir):\n",
    "      for file in files:\n",
    "        shutil.move(root + '/' + file, batch_hotel_dir)\n",
    "  else:\n",
    "    batch += 1\n",
    "    id_count = 0"
   ]
  },
  {
   "cell_type": "code",
   "execution_count": 18,
   "metadata": {
    "id": "25dZu4EspDOM"
   },
   "outputs": [],
   "source": [
    "def get_batchsets(batch_num):\n",
    "  batch_size = 32\n",
    "  img_height = 56\n",
    "  img_width = 56\n",
    "  hotels_dir = f\"/content/kaggle_dataset/hotels/batches/batch_{batch_num}/\"\n",
    "  train_ds = tf.keras.preprocessing.image_dataset_from_directory(\n",
    "    hotels_dir,\n",
    "    batch_size=batch_size,\n",
    "    image_size=(img_height, img_width),\n",
    "    seed=123,\n",
    "    subset='training',\n",
    "    validation_split=0.2,\n",
    "    label_mode='int'\n",
    "  )\n",
    "  val_ds = tf.keras.preprocessing.image_dataset_from_directory(\n",
    "  hotels_dir,\n",
    "  validation_split=0.2,\n",
    "  subset='validation',\n",
    "  seed=123,\n",
    "  image_size=(img_height, img_width),\n",
    "  batch_size=batch_size,\n",
    "  label_mode='int'\n",
    ")\n",
    "  return (train_ds, val_ds)"
   ]
  },
  {
   "cell_type": "code",
   "execution_count": 19,
   "metadata": {
    "colab": {
     "base_uri": "https://localhost:8080/"
    },
    "id": "daHjBcIj5gZV",
    "outputId": "82929734-218b-4984-ab3e-7b254fb02628"
   },
   "outputs": [
    {
     "name": "stdout",
     "output_type": "stream",
     "text": [
      "Found 6324 files belonging to 500 classes.\n",
      "Using 5060 files for training.\n",
      "Found 6324 files belonging to 500 classes.\n",
      "Using 1264 files for validation.\n"
     ]
    },
    {
     "data": {
      "text/plain": [
       "<BatchDataset shapes: ((None, 56, 56, 3), (None,)), types: (tf.float32, tf.int32)>"
      ]
     },
     "execution_count": 19,
     "metadata": {
      "tags": []
     },
     "output_type": "execute_result"
    }
   ],
   "source": [
    "train_ds, val_ds = get_batchsets(1)\n",
    "train_ds"
   ]
  },
  {
   "cell_type": "code",
   "execution_count": 20,
   "metadata": {
    "id": "oXW1KYqLtUVq"
   },
   "outputs": [],
   "source": [
    "class_names = train_ds.class_names\n",
    "num_classes = len(class_names)"
   ]
  },
  {
   "cell_type": "code",
   "execution_count": 22,
   "metadata": {
    "id": "-ug-0eIx-GQg"
   },
   "outputs": [],
   "source": [
    "def cache_ds(train_ds, val_ds):\n",
    "  AUTOTUNE = tf.data.AUTOTUNE\n",
    "  train_ds = train_ds.cache().prefetch(buffer_size=AUTOTUNE)\n",
    "  val_ds = val_ds.cache().prefetch(buffer_size=AUTOTUNE)\n",
    "  return(train_ds, val_ds)"
   ]
  },
  {
   "cell_type": "code",
   "execution_count": 23,
   "metadata": {
    "id": "oFUZGDXJhC--"
   },
   "outputs": [],
   "source": [
    "train_ds, val_ds = cache_ds(train_ds, val_ds)"
   ]
  },
  {
   "cell_type": "code",
   "execution_count": 67,
   "metadata": {
    "id": "sfk5w3F9qhSG"
   },
   "outputs": [],
   "source": [
    "class ConvNet:\n",
    "  models = []\n",
    "  best_model = None\n",
    "  best_acc = 0\n",
    "  def __init__(self, cFilters=[(64,0)], dLayers=[(800,0,0)]):\n",
    "    self.hyperparameters = {\n",
    "        'cFilters': cFilters,\n",
    "        'dLayers': dLayers,\n",
    "        'dropouts': dropouts\n",
    "    }\n",
    "    self.create_model(cFilters, dLayers)\n",
    "    \n",
    "  def create_model(self, cFilters, dLayers):\n",
    "    model = tf.keras.Sequential()\n",
    "    model.add(layers.experimental.preprocessing.Rescaling(1./255))\n",
    "    model.add(layers.experimental.preprocessing.RandomFlip('horizontal'))\n",
    "    model.add(layers.experimental.preprocessing.RandomZoom(0.2))\n",
    "    model.add(layers.experimental.preprocessing.RandomRotation(0.1))\n",
    "    model.add(layers.experimental.preprocessing.CenterCrop(28, 28))\n",
    "    for cFilter, reg in cFilters:\n",
    "      model.add(layers.Conv2D(cFilter, 3, padding='same', activation='relu', kernel_regularizer=l2(reg)))\n",
    "      model.add(layers.MaxPooling2D(padding='valid'))\n",
    "    model.add(layers.Flatten())\n",
    "    for dLayer, reg, drop in dLayers:\n",
    "      model.add(layers.Dense(dLayer, activation='relu', kernel_regularizer=l2(reg)))\n",
    "      model.add(layers.Dropout(drop))\n",
    "    model.add(layers.Dense(num_classes, activation='softmax'))\n",
    "    model.compile(\n",
    "      optimizer='adam',\n",
    "      loss=tf.losses.SparseCategoricalCrossentropy(from_logits=True),\n",
    "      metrics=['accuracy'])\n",
    "    self.model = model\n",
    "  def fit(self, train_ds, val_ds, epochs=100, batch_size=16):\n",
    "    history = self.model.fit(train_ds, validation_data=val_ds, epochs=epochs, batch_size=batch_size)\n",
    "    best_acc = max(history.history['val_accuracy'])\n",
    "    print('best acc', best_acc)\n",
    "    if best_acc > ConvNet.best_acc:\n",
    "      ConvNet.best_acc = best_acc\n",
    "      ConvNet.best_model = self\n",
    "    ConvNet.models.append(self.model)\n",
    "    ConvNet.hyperparameters.append(self.hyperparameters)\n",
    "    self.history = history\n",
    "    return history"
   ]
  },
  {
   "cell_type": "markdown",
   "metadata": {},
   "source": [
    "### Create and train the model\n",
    "\n",
    "More details in the previous notebook - agiver_hotel_cnn_1"
   ]
  },
  {
   "cell_type": "code",
   "execution_count": null,
   "metadata": {
    "id": "27hV9Zrjzawv"
   },
   "outputs": [],
   "source": [
    "conv_man = ConvNet([(100, 0), (32, 0)], [(400, 0, 0.6), (200, 0, 0.5)])\n",
    "conv_man_hist = conv_man.fit(train_ds, val_ds, 100)"
   ]
  },
  {
   "cell_type": "markdown",
   "metadata": {},
   "source": [
    "### Images from the validation set\n",
    "\n",
    "Pull some images from the validation set to go through the process of making predictions and being able to evaluate how the model performs in greater detail.\n",
    "\n",
    "Below we're showing an image from hotel 23694, which has a distinctive blue bed runner thing. We hypothesized that the model would do better at identifying this hotel since it is distinctive enough to stand out."
   ]
  },
  {
   "cell_type": "code",
   "execution_count": 162,
   "metadata": {
    "colab": {
     "base_uri": "https://localhost:8080/",
     "height": 284
    },
    "id": "DzyozsUl2HFe",
    "outputId": "fd8ad1bf-7d96-446d-b88b-b968be21431d",
    "scrolled": true
   },
   "outputs": [
    {
     "data": {
      "text/plain": [
       "<matplotlib.image.AxesImage at 0x7fbbcc67ae90>"
      ]
     },
     "execution_count": 162,
     "metadata": {
      "tags": []
     },
     "output_type": "execute_result"
    },
    {
     "data": {
      "image/png": "[encoded data removed]",
      "text/plain": [
       "<Figure size 432x288 with 1 Axes>"
      ]
     },
     "metadata": {
      "needs_background": "light",
      "tags": []
     },
     "output_type": "display_data"
    }
   ],
   "source": [
    "test_image_8899 = '/content/kaggle_dataset/hotels/batches/batch_1/8899/e5781c034e1f764d.jpg' #8899\n",
    "test_image_28103 = '/content/kaggle_dataset/hotels/batches/batch_1/28103/8783c06c9e5ccd9d.jpg'\n",
    "test_image_650 = '/content/kaggle_dataset/hotels/batches/batch_1/650/e0e11b16ee1939e6.jpg'\n",
    "test_image_23694 = '/content/kaggle_dataset/hotels/batches/batch_1/23694/83b226c8b887c9f7.jpg'\n",
    "test_images = [test_image_8899, test_image_28103, test_image_650, test_image_23694]\n",
    "\n",
    "img = tf.keras.preprocessing.image.load_img(test_image_23694, target_size=(56, 56))\n",
    "plt.imshow(img)"
   ]
  },
  {
   "cell_type": "markdown",
   "metadata": {},
   "source": [
    "### Get predictions function\n",
    "\n",
    "This function will pull the top most likely hotels from which the images came."
   ]
  },
  {
   "cell_type": "code",
   "execution_count": 190,
   "metadata": {
    "id": "NEAVhelh95kj"
   },
   "outputs": [],
   "source": [
    "def get_predictions(model, img_paths=[], top=5):\n",
    "  predictions=[]\n",
    "  for img_path in img_paths:\n",
    "    testing_img = tf.keras.preprocessing.image.load_img(img_path, target_size=(56, 56)) \n",
    "    img_array = tf.keras.preprocessing.image.img_to_array(testing_img)\n",
    "    img_array = tf.expand_dims(img_array, 0) # Create a batch\n",
    "    preds = model.predict(img_array)\n",
    "    score = tf.nn.softmax(preds[0])\n",
    "    print(\n",
    "    \"This image most likely belongs to {} with a {:.2f} percent confidence.\"\n",
    "    .format(class_names[np.argmax(score)], 100 * np.max(score))\n",
    "    )\n",
    "    ind = np.argpartition(score, top*-1)[top*-1:]\n",
    "    \n",
    "    tops = [class_names[i] for i in ind]\n",
    "    conf = [100*np.array(score)[i] for i in ind]\n",
    "    tops_conf = list(zip(tops, conf))\n",
    "    tops_conf.sort(key=lambda tup: tup[1], reverse=True)\n",
    "    predictions.append(tops_conf)\n",
    "  return predictions"
   ]
  },
  {
   "cell_type": "markdown",
   "metadata": {},
   "source": [
    "### Predictions made\n",
    "\n",
    "In the cell below, the model was tasked to provide its best 5 guesses for the provided images. \n",
    "The correct answers are:\n",
    "\n",
    "        8899\n",
    "        28103\n",
    "        650\n",
    "        23694\n",
    "\n",
    "Guesses are returned in order from most confident to least confident.\n",
    "\n",
    "As hypothesized, the model identified the hotel of the room with the blue bedspread! It was most confident about this room with 0.4% confidence.\n",
    "\n",
    "However, perhaps this isn't too much to celebrate, as it also predicted that same hotel for the third test image.\n",
    "\n",
    "Still, it was most confident about that prediction. It looks our model did learn something after all.\n",
    "\n",
    "Results summary:\n",
    "\n",
    "<table>\n",
    "    <thead>\n",
    "        <th>Image</th>\n",
    "        <th>Guessed correctly</th>\n",
    "        <th>Which guess</th>\n",
    "        <th>Confidence</th>\n",
    "    </thead>\n",
    "    <tr>\n",
    "        <td>One</td>\n",
    "        <td>Yes</td>\n",
    "        <td>3</td>\n",
    "        <td>0.20685866475105286</td>\n",
    "    </tr>\n",
    "    <tr>\n",
    "        <td>Two</td>\n",
    "        <td>No</td>\n",
    "        <td>N/A</td>\n",
    "        <td>N/A</td>\n",
    "    </tr>\n",
    "    <tr>\n",
    "        <td>Three</td>\n",
    "        <td>No</td>\n",
    "        <td>N/A</td>\n",
    "        <td>N/A</td>\n",
    "    </tr>\n",
    "    <tr>\n",
    "        <td>Four</td>\n",
    "        <td>Yes</td>\n",
    "        <td>1</td>\n",
    "        <td>0.3963327035307884</td>\n",
    "    </tr>\n",
    "</table>\n"
   ]
  },
  {
   "cell_type": "code",
   "execution_count": 191,
   "metadata": {
    "colab": {
     "base_uri": "https://localhost:8080/"
    },
    "id": "CvjaDUvx-6zH",
    "outputId": "8d9983eb-4ea1-4cea-c7ef-60f29ad70e79"
   },
   "outputs": [
    {
     "name": "stdout",
     "output_type": "stream",
     "text": [
      "This image most likely belongs to 40441 with a 0.21 percent confidence.\n",
      "This image most likely belongs to 11970 with a 0.23 percent confidence.\n",
      "This image most likely belongs to 23694 with a 0.33 percent confidence.\n",
      "This image most likely belongs to 23694 with a 0.40 percent confidence.\n"
     ]
    },
    {
     "data": {
      "text/plain": [
       "[[('40441', 0.2118562813848257),\n",
       "  ('43375', 0.20826985128223896),\n",
       "  ('49411', 0.20775208249688148),\n",
       "  ('8899', 0.20685866475105286),\n",
       "  ('30431', 0.2058209152892232)],\n",
       " [('11970', 0.22507940884679556),\n",
       "  ('40697', 0.2222163137048483),\n",
       "  ('24291', 0.22040356416255236),\n",
       "  ('38112', 0.21757453214377165),\n",
       "  ('44454', 0.21203137002885342)],\n",
       " [('23694', 0.33060512505471706),\n",
       "  ('39554', 0.21355545613914728),\n",
       "  ('34777', 0.20884997211396694),\n",
       "  ('56397', 0.20864331163465977),\n",
       "  ('14776', 0.2078925259411335)],\n",
       " [('23694', 0.3963327035307884),\n",
       "  ('22719', 0.21887978073209524),\n",
       "  ('56397', 0.20422872621566057),\n",
       "  ('35518', 0.20302487537264824),\n",
       "  ('14776', 0.2029401483014226)]]"
      ]
     },
     "execution_count": 191,
     "metadata": {
      "tags": []
     },
     "output_type": "execute_result"
    }
   ],
   "source": [
    "\n",
    "preds = get_predictions(conv_man.model, test_images, 5)\n",
    "preds"
   ]
  },
  {
   "cell_type": "markdown",
   "metadata": {},
   "source": [
    "### For the future\n",
    "\n",
    "When we're ready to commmit to handling the entire dataset, this function is ready and waiting"
   ]
  },
  {
   "cell_type": "code",
   "execution_count": 203,
   "metadata": {
    "id": "om_ElbAiD-cv"
   },
   "outputs": [],
   "source": [
    "def get_all():\n",
    "  batch_size = 32\n",
    "  img_height = 56\n",
    "  img_width = 56\n",
    "  hotels_dir = f\"/content/kaggle_dataset/hotels/train_images_by_id/\"\n",
    "  train_ds = tf.keras.preprocessing.image_dataset_from_directory(\n",
    "    hotels_dir,\n",
    "    batch_size=batch_size,\n",
    "    image_size=(img_height, img_width),\n",
    "    seed=123,\n",
    "    subset='training',\n",
    "    validation_split=0.2,\n",
    "    label_mode='int'\n",
    "  )\n",
    "  val_ds = tf.keras.preprocessing.image_dataset_from_directory(\n",
    "  hotels_dir,\n",
    "  validation_split=0.2,\n",
    "  subset='validation',\n",
    "  seed=123,\n",
    "  image_size=(img_height, img_width),\n",
    "  batch_size=batch_size,\n",
    "  label_mode='int'\n",
    ")\n",
    "  return (train_ds, val_ds)"
   ]
  }
 ],
 "metadata": {
  "accelerator": "GPU",
  "colab": {
   "collapsed_sections": [],
   "name": "hotel_project4 (4).ipynb",
   "provenance": []
  },
  "kernelspec": {
   "display_name": "Python 3",
   "language": "python",
   "name": "python3"
  },
  "language_info": {
   "codemirror_mode": {
    "name": "ipython",
    "version": 3
   },
   "file_extension": ".py",
   "mimetype": "text/x-python",
   "name": "python",
   "nbconvert_exporter": "python",
   "pygments_lexer": "ipython3",
   "version": "3.8.5"
  }
 },
 "nbformat": 4,
 "nbformat_minor": 1
}
