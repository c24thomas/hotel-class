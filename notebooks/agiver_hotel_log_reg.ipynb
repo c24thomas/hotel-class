{
 "cells": [
  {
   "cell_type": "markdown",
   "metadata": {},
   "source": [
    "### Logistic Regression\n",
    "\n",
    "In this notebook we're using logistic regression to attempt to classify the hotel images by hotel ID.\n",
    "\n",
    "The benefit of choosing Logistic Regression is that it is able to handle very large amounts of data. Unlike with the Convolutional Neural Networks, we are able to work with the entire dataset in a (relatively!) reasonable amount of time.\n",
    "\n",
    "Though time constraints limited the amount of tuning we could do on this model, the out-of-the-box model performed almost as well as the CNNs that went through hundreds of epochs of training.\n",
    "\n",
    "Hyperparameters used:\n",
    "No regularization\n",
    "Tolerance: 0.1\n",
    "Solver: saga\n",
    "Multi_class: multinomial\n",
    "\n",
    "####  This notebook was made on Google Colab\n",
    "\n",
    "Filepaths and some cells are necessary to run on Google colab.\n"
   ]
  },
  {
   "cell_type": "code",
   "execution_count": null,
   "metadata": {
    "colab": {
     "base_uri": "https://localhost:8080/"
    },
    "id": "zR0Zp7h3SCux",
    "outputId": "9f1fbd9e-64e3-4716-8514-d45fb89dde9b",
    "scrolled": true
   },
   "outputs": [],
   "source": [
    "from google.colab import drive\n",
    "drive.mount('/content/drive')"
   ]
  },
  {
   "cell_type": "code",
   "execution_count": 1,
   "metadata": {
    "id": "EjgbgS3rSNdq"
   },
   "outputs": [],
   "source": [
    "import numpy as np\n",
    "import os\n",
    "import pandas as pd\n",
    "from sklearn.model_selection import train_test_split\n",
    "from sklearn.linear_model import LogisticRegression\n",
    "from PIL import Image\n",
    "from sklearn.dummy import DummyClassifier"
   ]
  },
  {
   "cell_type": "code",
   "execution_count": 2,
   "metadata": {
    "id": "lHpG_gQXS5Ls"
   },
   "outputs": [],
   "source": [
    "!mkdir kaggle_dataset"
   ]
  },
  {
   "cell_type": "code",
   "execution_count": 3,
   "metadata": {
    "id": "gyKGTGAZS8LH"
   },
   "outputs": [],
   "source": [
    "os.environ['KAGGLE_CONFIG_DIR'] = '/content/kaggle_dataset'"
   ]
  },
  {
   "cell_type": "code",
   "execution_count": null,
   "metadata": {
    "id": "YECTQwhvTEVw"
   },
   "outputs": [],
   "source": [
    "!pip uninstall -y kaggle\n",
    "!pip install --upgrade pip\n",
    "!pip install kaggle==1.5.6"
   ]
  },
  {
   "cell_type": "markdown",
   "metadata": {},
   "source": [
    "### Kaggle.json\n",
    "\n",
    "In order for the next cell to run, be sure to upload your Kaggle API token (kaggle.json) to the kaggle_dataset directory. If you don't have one, visit your Kaggle account to download."
   ]
  },
  {
   "cell_type": "code",
   "execution_count": 5,
   "metadata": {
    "id": "mncX3yAkTV26"
   },
   "outputs": [],
   "source": [
    "!chmod 600 /content/kaggle_dataset/kaggle.json"
   ]
  },
  {
   "cell_type": "markdown",
   "metadata": {},
   "source": [
    "### Fetch data from Kaggle\n",
    "\n",
    "<p style=\"color: red\";>Warning, the next couple cells take a very long time to run</p>"
   ]
  },
  {
   "cell_type": "code",
   "execution_count": null,
   "metadata": {
    "colab": {
     "base_uri": "https://localhost:8080/"
    },
    "id": "OA9Nlv-BTYx_",
    "outputId": "3924b659-bc67-40ed-b16a-1b237d0290c8",
    "scrolled": true
   },
   "outputs": [],
   "source": [
    "!kaggle competitions download -c hotel-id-2021-fgvc8"
   ]
  },
  {
   "cell_type": "code",
   "execution_count": null,
   "metadata": {
    "id": "lxqVxazGU90R"
   },
   "outputs": [],
   "source": [
    "!unzip hotel-id-2021-fgvc8.zip -d /content/kaggle_dataset/hotels/"
   ]
  },
  {
   "cell_type": "code",
   "execution_count": null,
   "metadata": {
    "id": "V5C_kUv0Wg0q"
   },
   "outputs": [],
   "source": [
    "train_df = pd.read_csv('/content/kaggle_dataset/hotels/train.csv')\n",
    "train_df = train_df.drop_duplicates(subset=['image'], keep='first')"
   ]
  },
  {
   "cell_type": "markdown",
   "metadata": {},
   "source": [
    "### Create training and validation data\n",
    "\n",
    "We know them as X and y"
   ]
  },
  {
   "cell_type": "code",
   "execution_count": null,
   "metadata": {
    "id": "cCVkIPoYVl41"
   },
   "outputs": [],
   "source": [
    "def get_X_and_y():\n",
    "  X = []\n",
    "  y = []\n",
    "    \n",
    "  # the data comes in folders grouping images by their hotel chain\n",
    "  # loop through all the chains 0-92\n",
    "\n",
    "  folders = [str(chain) for chain in range(0, 92)]\n",
    "  dir = \"/content/kaggle_dataset/hotels/train_images/\"\n",
    "  for folder in folders:\n",
    "    chain_path = dir + folder + '/'\n",
    "    # we have to check that the chain exists, since not all number 0-92 are used\n",
    "    if os.path.exists(chain_path):\n",
    "      # loop through all the files in the chain folder\n",
    "      for image_file in os.listdir(chain_path):\n",
    "        if image_file.endswith('.jpg'):\n",
    "          # based on the filename, we can look up the hotel ID in the csv and append it to y\n",
    "          hotel_id = str(train_df[train_df['image'] == image_file]['hotel_id'].values[0])\n",
    "          y.append(hotel_id)\n",
    "          full_path = chain_path + image_file\n",
    "          # Use PIL to open the image, resize it, and scale it. Then append to X\n",
    "          img = np.array(Image.open(full_path).resize((56,56))).astype('float32')/255\n",
    "          X.append(img)\n",
    "  return (X, y)"
   ]
  },
  {
   "cell_type": "code",
   "execution_count": 167,
   "metadata": {
    "colab": {
     "base_uri": "https://localhost:8080/"
    },
    "id": "VTaFfhFWlPrc",
    "outputId": "945813b7-00af-465f-8845-f83db4a66fca"
   },
   "outputs": [
    {
     "data": {
      "text/plain": [
       "array([0.45490196, 0.35686275, 0.28627452, ..., 0.18431373, 0.1254902 ,\n",
       "       0.10196079], dtype=float32)"
      ]
     },
     "execution_count": 167,
     "metadata": {
      "tags": []
     },
     "output_type": "execute_result"
    }
   ],
   "source": [
    "X, y = get_X_and_y()"
   ]
  },
  {
   "cell_type": "code",
   "execution_count": 67,
   "metadata": {
    "colab": {
     "base_uri": "https://localhost:8080/"
    },
    "id": "t4elm8IiP7Ef",
    "outputId": "68c492d0-0a30-4b07-8b16-19e48d0454a5"
   },
   "outputs": [
    {
     "data": {
      "text/plain": [
       "(25764, 56, 56, 3)"
      ]
     },
     "execution_count": 67,
     "metadata": {
      "tags": []
     },
     "output_type": "execute_result"
    }
   ],
   "source": [
    "X_np = np.asarray(X)"
   ]
  },
  {
   "cell_type": "code",
   "execution_count": 68,
   "metadata": {
    "id": "S6T-QgM-4A3x"
   },
   "outputs": [],
   "source": [
    "X_train, X_test, y_train, y_test = train_test_split(X_np, y, random_state=42, train_size=0.8, test_size=0.2)"
   ]
  },
  {
   "cell_type": "code",
   "execution_count": 70,
   "metadata": {
    "id": "oVWqo-VvNrg0"
   },
   "outputs": [],
   "source": [
    "X_train = X_train.reshape(X_train.shape[0],56*56*3)\n",
    "X_test = X_test.reshape(X_test.shape[0],56*56*3)"
   ]
  },
  {
   "cell_type": "code",
   "execution_count": 71,
   "metadata": {
    "id": "ZXunmTlhYdot"
   },
   "outputs": [],
   "source": [
    "logreg = LogisticRegression(penalty='none',\n",
    "                            tol=0.1, solver='saga',\n",
    "                            multi_class='multinomial').fit(X_train, y_train)"
   ]
  },
  {
   "cell_type": "markdown",
   "metadata": {},
   "source": [
    "### Missing output:\n",
    "\n",
    "I lost the output to the following cell and I'd have to rerun it on Google Colab to get it again, but it's very busy running fits. So I'll just write the results of the following cell here:\n",
    "\n",
    "    Training score: 0.09621076124399593 accuracy\n",
    "    Testing score: 0.01785367746943528 accuracy"
   ]
  },
  {
   "cell_type": "code",
   "execution_count": null,
   "metadata": {
    "colab": {
     "base_uri": "https://localhost:8080/"
    },
    "id": "4ey7g2Asirz_",
    "outputId": "8ef0cda2-564e-43f4-b169-27968af13a1c"
   },
   "outputs": [],
   "source": [
    "logreg.score(X_train, y_train), logreg.score(X_test, y_test)"
   ]
  },
  {
   "cell_type": "code",
   "execution_count": 73,
   "metadata": {
    "colab": {
     "base_uri": "https://localhost:8080/"
    },
    "id": "NriHvo-vBChS",
    "outputId": "fa50ed08-4387-46af-a4ef-e3f9b34f7f7a"
   },
   "outputs": [
    {
     "data": {
      "text/plain": [
       "array(['17759', '37003', '50666', ..., '34668', '3659', '16161'],\n",
       "      dtype='<U5')"
      ]
     },
     "execution_count": 73,
     "metadata": {
      "tags": []
     },
     "output_type": "execute_result"
    }
   ],
   "source": [
    "logreg.predict(X_test)"
   ]
  },
  {
   "cell_type": "code",
   "execution_count": 74,
   "metadata": {
    "colab": {
     "base_uri": "https://localhost:8080/"
    },
    "id": "ka1b7KKVBSM2",
    "outputId": "4590b6b7-34e3-42b9-c18c-f4e90d4a922a"
   },
   "outputs": [
    {
     "data": {
      "text/plain": [
       "array([[0.00031559, 0.00154734, 0.00253714, ..., 0.00025764, 0.00064314,\n",
       "        0.00212435],\n",
       "       [0.00101512, 0.00310091, 0.00137814, ..., 0.00064141, 0.01830098,\n",
       "        0.00120207],\n",
       "       [0.00066789, 0.00329392, 0.00324878, ..., 0.00243235, 0.00166146,\n",
       "        0.00304914],\n",
       "       ...,\n",
       "       [0.00046179, 0.00170852, 0.00105208, ..., 0.00029902, 0.00057317,\n",
       "        0.00185655],\n",
       "       [0.00121953, 0.0067286 , 0.00497844, ..., 0.00052207, 0.00372806,\n",
       "        0.00078459],\n",
       "       [0.00124133, 0.00392612, 0.00542996, ..., 0.00254608, 0.00112786,\n",
       "        0.00158214]], dtype=float32)"
      ]
     },
     "execution_count": 74,
     "metadata": {
      "tags": []
     },
     "output_type": "execute_result"
    }
   ],
   "source": [
    "logreg.predict_proba(X_test)"
   ]
  },
  {
   "cell_type": "markdown",
   "metadata": {},
   "source": [
    "### Predictions\n",
    "\n",
    "Success is not measured for this by prediction accuracy.\n",
    "\n",
    "Instead, the goal is to narrow down a search by providing likely hotels where the image came from.\n",
    "\n",
    "The hotel the model thinks is most likely should be listed first, and then descending down to least likely.\n",
    "\n",
    "The function below returns the model's predictions for top n most likely hotels."
   ]
  },
  {
   "cell_type": "code",
   "execution_count": 145,
   "metadata": {
    "id": "zwGGOuf1F5Sk"
   },
   "outputs": [],
   "source": [
    "\n",
    "def get_top_predictions(model, n=5, dir=\"/content/kaggle_dataset/hotels/test_images/\"):\n",
    "    \n",
    "  df = pd.DataFrame()\n",
    "  X = []\n",
    "  for image_file in os.listdir(dir):\n",
    "    if image_file.endswith('.jpg'):\n",
    "      full_path = dir + image_file\n",
    "      img = np.array(Image.open(full_path).resize((56,56))).astype('float32')/255\n",
    "      X.append(img)\n",
    "  X_np = np.asarray(X)\n",
    "  X = X_np.reshape(X_np.shape[0],56*56*3)\n",
    "  prob = model.predict_proba(X)\n",
    "  for n in range(len(prob)):\n",
    "    # get indices of the top n probabilities predicted by the model\n",
    "    ind = np.argpartition(prob[n], -1*n)[-1*n:]\n",
    "    # get said top n probabilities\n",
    "    conf = [prob[n][i] for i in ind]\n",
    "    # get the hotel ids associated with the top probabilities\n",
    "    tops = [model.classes_[i] for i in ind] \n",
    "    # zip the probabilities with their hotel_id\n",
    "    conf_t = list(zip(conf, tops))\n",
    "    # sort the zipped pairs by probabilitity in descending order\n",
    "    conf_t.sort(key=lambda tup: tup[0], reverse=True)\n",
    "    # get just the top n hotel predictions\n",
    "    sorted_preds = [t for _, t in conf_t]\n",
    "    df[n] = sorted_preds\n",
    "  # return a transposed dataframe containing the top n likely hotels\n",
    "  return df.T\n",
    "    "
   ]
  },
  {
   "cell_type": "code",
   "execution_count": null,
   "metadata": {
    "id": "HIGnC-y-GDQl"
   },
   "outputs": [],
   "source": [
    "kaggle_sub = get_predictions(logreg)"
   ]
  },
  {
   "cell_type": "markdown",
   "metadata": {},
   "source": [
    "### Meanwhile, a Dummy Regressor\n",
    "\n",
    "Let's check how our results compare to a dummy regressor.\n",
    "\n",
    "Again, I lost my output to this cell (thanks to juggling back and forth between my local machine and Google Colab in an effort to multitask, and periodically getting kicked off of Google Colab and having to restart my session) so I'll put my results from the following cell here:\n",
    "\n",
    "    Training score: 0.003735869196060356 accuracy\n",
    "    Testing score: 0.0034931108092373375 accuracy"
   ]
  },
  {
   "cell_type": "code",
   "execution_count": null,
   "metadata": {},
   "outputs": [],
   "source": [
    "dummy_clf = DummyClassifier(strategy=\"most_frequent\")\n",
    "dummy_clf.fit(X_train, y_train)\n",
    "dummy_clf.score(X_train, y_train), dummy_clf.score(X_test, y_test)"
   ]
  },
  {
   "cell_type": "markdown",
   "metadata": {},
   "source": [
    "### For the Kaggle submission\n",
    "\n",
    "Kaggle wants a csv with image (the filename of the image) and the top hotel ids separated by a space"
   ]
  },
  {
   "cell_type": "code",
   "execution_count": 159,
   "metadata": {
    "colab": {
     "base_uri": "https://localhost:8080/",
     "height": 142
    },
    "id": "8vIwDEvjR0jR",
    "outputId": "73bdbd33-6f68-4d9b-f1fe-9fe332b5ddb1"
   },
   "outputs": [
    {
     "data": {
      "text/html": [
       "<div>\n",
       "<style scoped>\n",
       "    .dataframe tbody tr th:only-of-type {\n",
       "        vertical-align: middle;\n",
       "    }\n",
       "\n",
       "    .dataframe tbody tr th {\n",
       "        vertical-align: top;\n",
       "    }\n",
       "\n",
       "    .dataframe thead th {\n",
       "        text-align: right;\n",
       "    }\n",
       "</style>\n",
       "<table border=\"1\" class=\"dataframe\">\n",
       "  <thead>\n",
       "    <tr style=\"text-align: right;\">\n",
       "      <th></th>\n",
       "      <th>image</th>\n",
       "      <th>hotel_id</th>\n",
       "    </tr>\n",
       "  </thead>\n",
       "  <tbody>\n",
       "    <tr>\n",
       "      <th>0</th>\n",
       "      <td>99e91ad5f2870678.jpg</td>\n",
       "      <td>16124 30410 15433 7833 16505</td>\n",
       "    </tr>\n",
       "    <tr>\n",
       "      <th>1</th>\n",
       "      <td>b5cc62ab665591a9.jpg</td>\n",
       "      <td>3637 1460 45248 41325 28427</td>\n",
       "    </tr>\n",
       "    <tr>\n",
       "      <th>2</th>\n",
       "      <td>d5664a972d5a644b.jpg</td>\n",
       "      <td>3890 16137 39435 9520 47276</td>\n",
       "    </tr>\n",
       "  </tbody>\n",
       "</table>\n",
       "</div>"
      ],
      "text/plain": [
       "                  image                      hotel_id\n",
       "0  99e91ad5f2870678.jpg  16124 30410 15433 7833 16505\n",
       "1  b5cc62ab665591a9.jpg   3637 1460 45248 41325 28427\n",
       "2  d5664a972d5a644b.jpg   3890 16137 39435 9520 47276"
      ]
     },
     "execution_count": 159,
     "metadata": {
      "tags": []
     },
     "output_type": "execute_result"
    }
   ],
   "source": [
    "kaggle_sub['image'] = ['99e91ad5f2870678.jpg', 'b5cc62ab665591a9.jpg', 'd5664a972d5a644b.jpg']\n",
    "kaggle_sub['hotel_id'] = kaggle_sub[0] + ' ' + kaggle_sub[1] + ' ' + kaggle_sub[2] + ' ' + kaggle_sub[3] + ' ' + kaggle_sub[4]\n",
    "kaggle_sub.drop(columns=[0,1,2,3,4], inplace=True)\n",
    "kaggle_sub"
   ]
  },
  {
   "cell_type": "code",
   "execution_count": 160,
   "metadata": {
    "id": "lBmQbKx9WLu7"
   },
   "outputs": [],
   "source": [
    "kaggle_sub.to_csv('/content/drive/MyDrive/hotels/kaggle_sub1.csv', index=False) "
   ]
  },
  {
   "cell_type": "markdown",
   "metadata": {},
   "source": [
    "### Surprise\n",
    "\n",
    "Turns out you can't just submit a csv to the Kaggle competition.\n",
    "\n",
    "You need to turn in your notebook with your model, and they'll run the model with new unseen data and use whatever file output your notebook produces for evaluation."
   ]
  }
 ],
 "metadata": {
  "colab": {
   "machine_shape": "hm",
   "name": "hotel_log_reg.ipynb",
   "provenance": []
  },
  "kernelspec": {
   "display_name": "Python 3",
   "language": "python",
   "name": "python3"
  },
  "language_info": {
   "codemirror_mode": {
    "name": "ipython",
    "version": 3
   },
   "file_extension": ".py",
   "mimetype": "text/x-python",
   "name": "python",
   "nbconvert_exporter": "python",
   "pygments_lexer": "ipython3",
   "version": "3.8.5"
  }
 },
 "nbformat": 4,
 "nbformat_minor": 1
}
