{
 "cells": [
  {
   "cell_type": "code",
   "execution_count": null,
   "metadata": {
    "ExecuteTime": {
     "end_time": "2021-05-22T17:17:32.007290Z",
     "start_time": "2021-05-22T17:17:31.966618Z"
    }
   },
   "outputs": [],
   "source": [
    "# for loading/processing the images  \n",
    "from keras.preprocessing.image import load_img \n",
    "from keras.preprocessing.image import img_to_array \n",
    "from keras.applications.vgg16 import preprocess_input \n",
    "\n",
    "# models \n",
    "from keras.applications.vgg16 import VGG16 \n",
    "from keras.models import Model\n",
    "\n",
    "# clustering and dimension reduction\n",
    "from sklearn.cluster import KMeans\n",
    "from sklearn.decomposition import PCA\n",
    "\n",
    "# for everything else\n",
    "import os\n",
    "import numpy as np\n",
    "import matplotlib.pyplot as plt\n",
    "from random import randint\n",
    "import pandas as pd\n",
    "import pickle\n",
    "import tensorflow as tf\n",
    "from PIL import Image"
   ]
  },
  {
   "cell_type": "code",
   "execution_count": null,
   "metadata": {
    "ExecuteTime": {
     "end_time": "2021-05-22T17:16:33.502744Z",
     "start_time": "2021-05-22T17:16:30.620Z"
    }
   },
   "outputs": [],
   "source": [
    "def img_cls(folder):\n",
    "    img = []\n",
    "    cls = []\n",
    "    filename = []\n",
    "    for i in os.listdir(folder):\n",
    "        \n",
    "        x = 20\n",
    "        for file in os.listdir(os.path.join(folder, i)):\n",
    "            img_path = os.path.join(folder, i, file)\n",
    "            filename.append(img_path)\n",
    "            while x > 0:               \n",
    "                \n",
    "                #one_img = np.resize(np.array(Image.open(img_path)), (224, 224, 3)).astype('float32')/255\n",
    "                image = np.array(Image.open(img_path).resize((224,224))).astype('float32')/255\n",
    "#                 image = Image.open(img_path)\n",
    "#                 image = np.array(image)\n",
    "#                 image = image.resize((224, 224, 3))\n",
    "#                 image = image.astype('float32')/255\n",
    "                img.append(image)\n",
    "                cls.append(i)\n",
    "                x -= 1\n",
    "    return img, cls, filename"
   ]
  },
  {
   "cell_type": "code",
   "execution_count": null,
   "metadata": {
    "ExecuteTime": {
     "end_time": "2021-05-22T17:16:33.504231Z",
     "start_time": "2021-05-22T17:16:30.621Z"
    }
   },
   "outputs": [],
   "source": [
    "img_data, cls_data, filename = img_cls('C:/Users/gc/Documents/GA/Projects/Project_5/imag')"
   ]
  },
  {
   "cell_type": "code",
   "execution_count": null,
   "metadata": {
    "ExecuteTime": {
     "end_time": "2021-05-22T17:16:33.504727Z",
     "start_time": "2021-05-22T17:16:30.621Z"
    }
   },
   "outputs": [],
   "source": [
    "img_data[:5]"
   ]
  },
  {
   "cell_type": "code",
   "execution_count": null,
   "metadata": {
    "ExecuteTime": {
     "end_time": "2021-05-22T17:16:33.505720Z",
     "start_time": "2021-05-22T17:16:30.623Z"
    }
   },
   "outputs": [],
   "source": [
    "cls_data[:5]"
   ]
  },
  {
   "cell_type": "code",
   "execution_count": null,
   "metadata": {
    "ExecuteTime": {
     "end_time": "2021-05-22T17:16:33.506215Z",
     "start_time": "2021-05-22T17:16:30.624Z"
    },
    "scrolled": false
   },
   "outputs": [],
   "source": [
    "#filename"
   ]
  },
  {
   "cell_type": "code",
   "execution_count": null,
   "metadata": {
    "ExecuteTime": {
     "end_time": "2021-05-22T17:16:33.506711Z",
     "start_time": "2021-05-22T17:16:30.624Z"
    }
   },
   "outputs": [],
   "source": [
    "reshaped_img = [image.reshape(1, 224, 224, 3) for image in img_data]"
   ]
  },
  {
   "cell_type": "code",
   "execution_count": null,
   "metadata": {
    "ExecuteTime": {
     "end_time": "2021-05-22T17:16:33.507704Z",
     "start_time": "2021-05-22T17:16:30.625Z"
    }
   },
   "outputs": [],
   "source": [
    "reshaped_img[0].shape"
   ]
  },
  {
   "cell_type": "code",
   "execution_count": null,
   "metadata": {
    "ExecuteTime": {
     "end_time": "2021-05-22T17:16:33.508200Z",
     "start_time": "2021-05-22T17:16:30.626Z"
    }
   },
   "outputs": [],
   "source": [
    "preprocessed_img = [preprocess_input(image) for image in reshaped_img]\n"
   ]
  },
  {
   "cell_type": "code",
   "execution_count": null,
   "metadata": {
    "ExecuteTime": {
     "end_time": "2021-05-22T17:16:33.509192Z",
     "start_time": "2021-05-22T17:16:30.627Z"
    }
   },
   "outputs": [],
   "source": [
    "preprocessed_img[0][:5]"
   ]
  },
  {
   "cell_type": "code",
   "execution_count": null,
   "metadata": {
    "ExecuteTime": {
     "end_time": "2021-05-22T17:16:33.509688Z",
     "start_time": "2021-05-22T17:16:30.628Z"
    }
   },
   "outputs": [],
   "source": [
    "# load pre-trained model\n",
    "model = VGG16()\n",
    "model = Model(inputs = model.inputs, outputs = model.layers[-2].output)"
   ]
  },
  {
   "cell_type": "code",
   "execution_count": null,
   "metadata": {
    "ExecuteTime": {
     "end_time": "2021-05-22T17:16:33.510680Z",
     "start_time": "2021-05-22T17:16:30.628Z"
    }
   },
   "outputs": [],
   "source": [
    "\n",
    "features = [model.predict(image, use_multiprocessing=True) for image in preprocessed_img]"
   ]
  },
  {
   "cell_type": "code",
   "execution_count": null,
   "metadata": {
    "ExecuteTime": {
     "end_time": "2021-05-22T17:16:33.511176Z",
     "start_time": "2021-05-22T17:16:30.629Z"
    }
   },
   "outputs": [],
   "source": [
    "features = np.array(features)"
   ]
  },
  {
   "cell_type": "code",
   "execution_count": null,
   "metadata": {
    "ExecuteTime": {
     "end_time": "2021-05-22T17:16:33.511672Z",
     "start_time": "2021-05-22T17:16:30.630Z"
    }
   },
   "outputs": [],
   "source": [
    "features_reshape = features.reshape(-1, 4096)"
   ]
  },
  {
   "cell_type": "code",
   "execution_count": null,
   "metadata": {
    "ExecuteTime": {
     "end_time": "2021-05-22T17:16:33.512168Z",
     "start_time": "2021-05-22T17:16:30.631Z"
    }
   },
   "outputs": [],
   "source": [
    "features_reshape.shape"
   ]
  },
  {
   "cell_type": "code",
   "execution_count": null,
   "metadata": {},
   "outputs": [],
   "source": []
  },
  {
   "cell_type": "code",
   "execution_count": null,
   "metadata": {
    "ExecuteTime": {
     "end_time": "2021-05-22T17:16:33.513159Z",
     "start_time": "2021-05-22T17:16:30.632Z"
    }
   },
   "outputs": [],
   "source": [
    "# reduce the amount of dimensions in the feature vector\n",
    "pca = PCA(n_components=20, random_state=22)\n",
    "pca.fit(features_reshape)\n",
    "x = pca.transform(features_reshape)"
   ]
  },
  {
   "cell_type": "code",
   "execution_count": null,
   "metadata": {
    "ExecuteTime": {
     "end_time": "2021-05-22T17:16:33.513656Z",
     "start_time": "2021-05-22T17:16:30.633Z"
    }
   },
   "outputs": [],
   "source": [
    "x"
   ]
  },
  {
   "cell_type": "code",
   "execution_count": null,
   "metadata": {
    "ExecuteTime": {
     "end_time": "2021-05-22T17:16:33.515145Z",
     "start_time": "2021-05-22T17:16:30.634Z"
    },
    "scrolled": true
   },
   "outputs": [],
   "source": [
    "# cluster feature vectors\n",
    "kmeans = KMeans(n_clusters=20,n_jobs=-1, random_state=22)\n",
    "kmeans.fit(x)"
   ]
  },
  {
   "cell_type": "code",
   "execution_count": null,
   "metadata": {
    "ExecuteTime": {
     "end_time": "2021-05-22T17:16:33.515639Z",
     "start_time": "2021-05-22T17:16:30.635Z"
    }
   },
   "outputs": [],
   "source": [
    "kmeans.labels_"
   ]
  },
  {
   "cell_type": "code",
   "execution_count": null,
   "metadata": {
    "ExecuteTime": {
     "end_time": "2021-05-22T17:16:33.516632Z",
     "start_time": "2021-05-22T17:16:30.636Z"
    }
   },
   "outputs": [],
   "source": [
    "# holds the cluster id and the images { id: [images] }\n",
    "groups = {}\n",
    "for file, cluster in zip(filename,kmeans.labels_):\n",
    "    if cluster not in groups.keys():\n",
    "        groups[cluster] = []\n",
    "        groups[cluster].append(file)\n",
    "    else:\n",
    "        groups[cluster].append(file)\n",
    "\n",
    "# function that lets you view a cluster (based on identifier)        \n",
    "def view_cluster(cluster):\n",
    "    plt.figure(figsize = (25,25));\n",
    "    # gets the list of filenames for a cluster\n",
    "    files = groups[cluster]\n",
    "    print(len(files))\n",
    "    # only allow up to 30 images to be shown at a time\n",
    "    if len(files) > 30:\n",
    "        print(f\"Clipping cluster size from {len(files)} to 30\")\n",
    "        files = files[:29]\n",
    "    # plot each image in the cluster\n",
    "    for index, file in enumerate(files):\n",
    "        plt.subplot(10,10,index+1);\n",
    "        img = load_img(file)\n",
    "        img = np.array(img)\n",
    "        plt.imshow(img)\n",
    "        plt.axis('off')"
   ]
  },
  {
   "cell_type": "code",
   "execution_count": null,
   "metadata": {
    "ExecuteTime": {
     "end_time": "2021-05-22T17:16:33.517128Z",
     "start_time": "2021-05-22T17:16:30.637Z"
    }
   },
   "outputs": [],
   "source": [
    "print(groups[0])"
   ]
  },
  {
   "cell_type": "code",
   "execution_count": null,
   "metadata": {
    "ExecuteTime": {
     "end_time": "2021-05-22T17:16:33.518119Z",
     "start_time": "2021-05-22T17:16:30.637Z"
    }
   },
   "outputs": [],
   "source": [
    "view_cluster(1)"
   ]
  },
  {
   "cell_type": "code",
   "execution_count": null,
   "metadata": {},
   "outputs": [],
   "source": []
  },
  {
   "cell_type": "code",
   "execution_count": null,
   "metadata": {},
   "outputs": [],
   "source": []
  }
 ],
 "metadata": {
  "kernelspec": {
   "display_name": "Python 3",
   "language": "python",
   "name": "python3"
  },
  "language_info": {
   "codemirror_mode": {
    "name": "ipython",
    "version": 3
   },
   "file_extension": ".py",
   "mimetype": "text/x-python",
   "name": "python",
   "nbconvert_exporter": "python",
   "pygments_lexer": "ipython3",
   "version": "3.8.5"
  },
  "toc": {
   "base_numbering": 1,
   "nav_menu": {},
   "number_sections": true,
   "sideBar": true,
   "skip_h1_title": false,
   "title_cell": "Table of Contents",
   "title_sidebar": "Contents",
   "toc_cell": false,
   "toc_position": {},
   "toc_section_display": true,
   "toc_window_display": false
  },
  "varInspector": {
   "cols": {
    "lenName": 16,
    "lenType": 16,
    "lenVar": 40
   },
   "kernels_config": {
    "python": {
     "delete_cmd_postfix": "",
     "delete_cmd_prefix": "del ",
     "library": "var_list.py",
     "varRefreshCmd": "print(var_dic_list())"
    },
    "r": {
     "delete_cmd_postfix": ") ",
     "delete_cmd_prefix": "rm(",
     "library": "var_list.r",
     "varRefreshCmd": "cat(var_dic_list()) "
    }
   },
   "types_to_exclude": [
    "module",
    "function",
    "builtin_function_or_method",
    "instance",
    "_Feature"
   ],
   "window_display": false
  }
 },
 "nbformat": 4,
 "nbformat_minor": 4
}
